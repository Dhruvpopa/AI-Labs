{
  "nbformat": 4,
  "nbformat_minor": 0,
  "metadata": {
    "colab": {
      "provenance": []
    },
    "kernelspec": {
      "name": "python3",
      "display_name": "Python 3"
    },
    "language_info": {
      "name": "python"
    }
  },
  "cells": [
    {
      "cell_type": "code",
      "execution_count": 40,
      "metadata": {
        "id": "DhrXsEXqnJf9"
      },
      "outputs": [],
      "source": [
        "# Import necessary libraries for all three problem statements\n",
        "import numpy as np\n",
        "from time import time\n",
        "import random\n",
        "from queue import PriorityQueue"
      ]
    },
    {
      "cell_type": "code",
      "source": [
        "import numpy as np\n",
        "\n",
        "class StateNode:\n",
        "    def __init__(self, parent, state, path_cost, heuristic_cost, action=None):\n",
        "        self.parent = parent\n",
        "        self.state = state\n",
        "        self.action = action\n",
        "        self.path_cost = path_cost\n",
        "        self.heuristic_cost = heuristic_cost\n",
        "        self.cost = path_cost + heuristic_cost\n",
        "\n",
        "    def __hash__(self):\n",
        "        return hash(str(self.state.flatten()))\n",
        "\n",
        "    def __str__(self):\n",
        "        return str(self.state)\n",
        "\n",
        "    def __ne__(self, other):\n",
        "        return hash(''.join(self.state.flatten())) != hash(''.join(other.state.flatten()))\n",
        "\n",
        "    def __eq__(self, other):\n",
        "        return hash(''.join(self.state.flatten())) == hash(''.join(other.state.flatten()))\n",
        "\n",
        "class PriorityQueue:\n",
        "    def __init__(self):\n",
        "        self.queue = []\n",
        "        self.hashes = {}\n",
        "\n",
        "    def push(self, node):\n",
        "        node_hash = hash(node)\n",
        "        if node_hash not in self.hashes:\n",
        "            self.hashes[node_hash] = 1\n",
        "            self.queue.append(node)\n",
        "\n",
        "    def pop(self):\n",
        "        min_cost_index = self._find_min_cost_index()\n",
        "        return self.queue.pop(min_cost_index)\n",
        "\n",
        "    def _find_min_cost_index(self):\n",
        "        min_cost = 10**18\n",
        "        min_index = -1\n",
        "        for i, node in enumerate(self.queue):\n",
        "            if node.cost < min_cost:\n",
        "                min_cost = node.cost\n",
        "                min_index = i\n",
        "        return min_index\n",
        "\n",
        "    def is_empty(self):\n",
        "        return not bool(self.queue)\n",
        "\n",
        "    def __str__(self):\n",
        "        return str([node.state for node in self.queue])\n",
        "\n",
        "    def __len__(self):\n",
        "        return len(self.queue)\n",
        "\n",
        "class BoardEnvironment:\n",
        "    def __init__(self, start_state=None, goal_state=None):\n",
        "        self.actions = [1, 2, 3, 4]  # 1 - Up, 2 - Down, 3 - Right, 4 - Left\n",
        "        self.goal_state = goal_state if goal_state is not None else self.generate_goal_state()\n",
        "        self.start_state = start_state if start_state is not None else self.generate_start_state()\n",
        "\n",
        "    def generate_state(self, center_val):\n",
        "        state = np.zeros((7, 7))\n",
        "        state[[0, 1, 5, 6], :] = -1\n",
        "        state[:, [0, 1, 5, 6]] = -1\n",
        "        state[2:5, 2:5] = 1\n",
        "        state[3, 3] = center_val\n",
        "        return state\n",
        "\n",
        "    def generate_start_state(self):\n",
        "        return self.generate_state(0)\n",
        "\n",
        "    def generate_goal_state(self):\n",
        "        return self.generate_state(1)\n",
        "\n",
        "    def get_start_state(self):\n",
        "        return self.start_state\n",
        "\n",
        "    def get_goal_state(self):\n",
        "        return self.goal_state\n",
        "\n",
        "    def get_next_states(self, state):\n",
        "        new_states = []\n",
        "        spaces = [(i, j) for i in range(7) for j in range(7) if state[i][j] == 0]\n",
        "        for x, y in spaces:\n",
        "            new_states.extend(self.get_new_states_for_space(state, x, y))\n",
        "        return new_states\n",
        "\n",
        "    def get_new_states_for_space(self, state, x, y):\n",
        "        new_states = []\n",
        "        directions = [(1, 0), (-1, 0), (0, 1), (0, -1)]\n",
        "        for dx, dy in directions:\n",
        "            if self.can_move(state, x, y, dx, dy):\n",
        "                new_state = state.copy()\n",
        "                new_state[x][y] = 1\n",
        "                new_state[x + dx][y + dy] = 0\n",
        "                new_state[x + 2 * dx][y + 2 * dy] = 0\n",
        "                action = f'({x + 2 * dx}, {y + 2 * dy}) -> ({x}, {y})'\n",
        "                new_states.append((new_state, action))\n",
        "        return new_states\n",
        "\n",
        "    def can_move(self, state, x, y, dx, dy):\n",
        "        return (0 <= x + 2 * dx < 7 and 0 <= y + 2 * dy < 7 and\n",
        "                state[x + dx][y + dy] == 1 and state[x + 2 * dx][y + 2 * dy] == 1)\n",
        "\n",
        "    def reached_goal(self, state):\n",
        "        return np.array_equal(state, self.goal_state)\n"
      ],
      "metadata": {
        "id": "Q9M4UsOXnNZN"
      },
      "execution_count": 21,
      "outputs": []
    },
    {
      "cell_type": "code",
      "source": [
        "import time\n",
        "\n",
        "class FirstPlayer:\n",
        "    def __init__(self, environment, heuristic_function):\n",
        "        self.frontier = PriorityQueue()\n",
        "        self.explored = {}\n",
        "        self.environment = environment\n",
        "        self.heuristic = heuristic_function\n",
        "        self.start_state = self.environment.get_start_state()\n",
        "        self.goal_state = self.environment.get_goal_state()\n",
        "        self.goal_node = None\n",
        "\n",
        "    def run_search(self):\n",
        "        self.initialize_frontier()\n",
        "        start_time = time.time()\n",
        "        while not self.frontier.is_empty():\n",
        "            current_node = self.frontier.pop()\n",
        "            if self.is_explored(current_node):\n",
        "                continue\n",
        "            self.add_to_explored(current_node)\n",
        "            if self.environment.reached_goal(current_node.state):\n",
        "                print(\"Goal reached!\")\n",
        "                self.goal_node = current_node\n",
        "                break\n",
        "            self.expand_frontier(current_node)\n",
        "        end_time = time.time()\n",
        "        print(end_time - start_time)\n",
        "        return end_time - start_time\n",
        "\n",
        "    def initialize_frontier(self):\n",
        "        initial_node = StateNode(parent=None, state=self.start_state, path_cost=0, heuristic_cost=0)\n",
        "        self.frontier.push(initial_node)\n",
        "\n",
        "    def is_explored(self, node):\n",
        "        return hash(node) in self.explored\n",
        "\n",
        "    def add_to_explored(self, node):\n",
        "        self.explored[hash(node)] = node\n",
        "\n",
        "    def expand_frontier(self, current_node):\n",
        "        next_states = self.environment.get_next_states(current_node.state)\n",
        "        for state in next_states:\n",
        "            heuristic_cost = self.heuristic(state[0])\n",
        "            node = StateNode(parent=current_node, state=state[0], path_cost=current_node.path_cost+1, heuristic_cost=heuristic_cost, action=state[1])\n",
        "            self.frontier.push(node)\n",
        "\n",
        "    def print_path(self):\n",
        "        node = self.goal_node\n",
        "        nodes = []\n",
        "        while node is not None:\n",
        "            nodes.append(node)\n",
        "            node = node.parent\n",
        "        for step, node in enumerate(reversed(nodes), start=1):\n",
        "            print(f\"Step: {step}\")\n",
        "            print(node.action)\n"
      ],
      "metadata": {
        "id": "Xmb5P1oYn01Q"
      },
      "execution_count": 22,
      "outputs": []
    },
    {
      "cell_type": "code",
      "source": [
        "def zero_heuristic(curr_state):\n",
        "    return 0\n",
        "\n",
        "def heuristic_one(curr_state):\n",
        "    return sum(abs(i-3) + abs(j-3) for i in range(7) for j in range(7) if curr_state[i][j] == 1)\n",
        "\n",
        "def heuristic_two(curr_state):\n",
        "    return sum(2 ** max(abs(i - 3), abs(j - 3)) for i in range(7) for j in range(7) if curr_state[i][j] == 1)\n",
        "\n"
      ],
      "metadata": {
        "id": "ybZPjp96n1xn"
      },
      "execution_count": 23,
      "outputs": []
    },
    {
      "cell_type": "code",
      "source": [
        "total_time = 0\n",
        "explored_nodes = []\n",
        "frontier_nodes = []\n",
        "\n",
        "for _ in range(5):\n",
        "    agent = FirstPlayer(BoardEnvironment(), heuristic_two)\n",
        "    total_time += agent.run_search()\n",
        "    explored_nodes.append(len(agent.explored))\n",
        "    frontier_nodes.append(len(agent.frontier))\n",
        "\n",
        "print(\"Average time:\", total_time / 5)\n",
        "print(\"Average number of explored nodes:\", sum(explored_nodes) / 5)\n",
        "print(\"Average number of nodes in frontier:\", sum(frontier_nodes) / 5)\n"
      ],
      "metadata": {
        "colab": {
          "base_uri": "https://localhost:8080/"
        },
        "id": "Bw0jEcxGoGfP",
        "outputId": "92aae5c0-4ce2-45d7-dfb5-160c6c314b38"
      },
      "execution_count": 24,
      "outputs": [
        {
          "output_type": "stream",
          "name": "stdout",
          "text": [
            "0.002454042434692383\n",
            "0.001295328140258789\n",
            "0.0011262893676757812\n",
            "0.0011415481567382812\n",
            "0.0011200904846191406\n",
            "Average time: 0.001427459716796875\n",
            "Average number of explored nodes: 1.0\n",
            "Average number of nodes in frontier: 0.0\n"
          ]
        }
      ]
    },
    {
      "cell_type": "code",
      "source": [
        "import time\n",
        "\n",
        "class SecondPlayer:\n",
        "    def __init__(self, environment, heuristic_function):\n",
        "        self.frontier = PriorityQueue()\n",
        "        self.explored = {}\n",
        "        self.environment = environment\n",
        "        self.heuristic = heuristic_function\n",
        "        self.start_state = self.environment.get_start_state()\n",
        "        self.goal_state = self.environment.get_goal_state()\n",
        "        self.goal_node = None\n",
        "\n",
        "    def run_search(self):\n",
        "        self.initialize_frontier()\n",
        "        start_time = time.time()\n",
        "        while not self.frontier.is_empty():\n",
        "            current_node = self.frontier.pop()\n",
        "            if self.is_explored(current_node):\n",
        "                continue\n",
        "            self.add_to_explored(current_node)\n",
        "            if self.environment.reached_goal(current_node.state):\n",
        "                print(\"Goal reached!\")\n",
        "                self.goal_node = current_node\n",
        "                break\n",
        "            self.expand_frontier(current_node)\n",
        "        end_time = time.time()\n",
        "        print(end_time - start_time)\n",
        "        return end_time - start_time\n",
        "\n",
        "    def initialize_frontier(self):\n",
        "        initial_node = StateNode(parent=None, state=self.start_state, path_cost=0, heuristic_cost=0)\n",
        "        self.frontier.push(initial_node)\n",
        "\n",
        "    def is_explored(self, node):\n",
        "        return hash(node) in self.explored\n",
        "\n",
        "    def add_to_explored(self, node):\n",
        "        self.explored[hash(node)] = node\n",
        "\n",
        "    def expand_frontier(self, current_node):\n",
        "        next_states = self.environment.get_next_states(current_node.state)\n",
        "        for state in next_states:\n",
        "            heuristic_cost = self.heuristic(state[0])\n",
        "            node = StateNode(parent=current_node, state=state[0], path_cost=0, heuristic_cost=heuristic_cost, action=state[1])\n",
        "            self.frontier.push(node)\n",
        "\n",
        "    def print_path(self):\n",
        "        node = self.goal_node\n",
        "        nodes = []\n",
        "        while node is not None:\n",
        "            nodes.append(node)\n",
        "            node = node.parent\n",
        "        for step, node in enumerate(reversed(nodes), start=1):\n",
        "            print(f\"Step: {step}\")\n",
        "            print(node.action)\n"
      ],
      "metadata": {
        "id": "u1V5KHqbr9Go"
      },
      "execution_count": 26,
      "outputs": []
    },
    {
      "cell_type": "code",
      "source": [
        "total_time = 0\n",
        "explored_nodes = []\n",
        "frontier_nodes = []\n",
        "\n",
        "for _ in range(5):\n",
        "    agent = SecondPlayer(BoardEnvironment(), heuristic_two)\n",
        "    total_time += agent.run_search()\n",
        "    explored_nodes.append(len(agent.explored))\n",
        "    frontier_nodes.append(len(agent.frontier))\n",
        "\n",
        "print(\"Average time:\", total_time / 5)\n",
        "print(\"Average number of explored nodes:\", sum(explored_nodes) / 5)\n",
        "print(\"Average number of nodes in frontier:\", sum(frontier_nodes) / 5)\n"
      ],
      "metadata": {
        "colab": {
          "base_uri": "https://localhost:8080/"
        },
        "id": "xVW44SRitLJ3",
        "outputId": "c4d36e57-bbb6-4294-b309-265ca87fe7bc"
      },
      "execution_count": 27,
      "outputs": [
        {
          "output_type": "stream",
          "name": "stdout",
          "text": [
            "0.0012238025665283203\n",
            "0.0014774799346923828\n",
            "0.0011682510375976562\n",
            "0.000997304916381836\n",
            "0.0007135868072509766\n",
            "Average time: 0.0011160850524902343\n",
            "Average number of explored nodes: 1.0\n",
            "Average number of nodes in frontier: 0.0\n"
          ]
        }
      ]
    },
    {
      "cell_type": "code",
      "source": [
        "import random\n",
        "\n",
        "def generate_instance(n, k, m):\n",
        "    variables = [chr(i + 65) for i in range(n)]\n",
        "    clauses = []\n",
        "\n",
        "    for _ in range(m):\n",
        "        clause = []\n",
        "        for _ in range(k):\n",
        "            x = random.choice(variables)\n",
        "            variables.remove(x)\n",
        "            clause.append('~' + x if random.random() < 0.5 else x)\n",
        "        clauses.append(' or '.join(clause))\n",
        "        variables.extend(clause)\n",
        "\n",
        "    problem = ' and '.join(f'({clause})' for clause in clauses)\n",
        "    return f'(({problem}))'\n",
        "\n",
        "for i in range(10):\n",
        "    print(f\"Problem {i+1}: {generate_instance(12, 3, 4)}\")\n"
      ],
      "metadata": {
        "colab": {
          "base_uri": "https://localhost:8080/"
        },
        "id": "IC6mvaULtc4P",
        "outputId": "aed0f6e5-7ba1-431a-b457-5929195ab986"
      },
      "execution_count": 28,
      "outputs": [
        {
          "output_type": "stream",
          "name": "stdout",
          "text": [
            "Problem 1: (((H or E or ~I) and (J or C or B) and (K or ~G or C) and (E or ~A or ~~G)))\n",
            "Problem 2: (((G or ~E or I) and (~D or ~G or ~J) and (~~E or K or ~A) and (~K or ~~A or ~J)))\n",
            "Problem 3: (((~C or H or ~L) and (A or ~B or H) and (~K or ~~L or ~H) and (~A or ~B or E)))\n",
            "Problem 4: (((G or B or I) and (H or ~A or ~F) and (~~A or ~K or J) and (E or B or D)))\n",
            "Problem 5: (((F or C or L) and (J or ~E or ~F) and (B or ~G or ~L) and (~K or ~I or ~E)))\n",
            "Problem 6: (((F or ~G or C) and (~K or L or ~B) and (~F or ~A or ~~K) and (~~~K or ~~F or L)))\n",
            "Problem 7: (((~L or G or ~C) and (~I or E or ~A) and (~A or K or B) and (~F or ~D or ~J)))\n",
            "Problem 8: (((C or ~E or ~F) and (G or ~I or K) and (~J or L or H) and (C or K or ~~I)))\n",
            "Problem 9: (((~F or ~A or H) and (~K or H or ~I) and (~~F or G or ~~K) and (~B or G or ~L)))\n",
            "Problem 10: (((~C or ~G or A) and (K or ~C or A) and (F or ~L or H) and (~I or ~A or ~K)))\n"
          ]
        }
      ]
    },
    {
      "cell_type": "code",
      "source": [
        "from dataclasses import dataclass, field\n",
        "from typing import Any\n",
        "\n",
        "@dataclass(order=True)\n",
        "class PrioritizedItem:\n",
        "    priority_value: int\n",
        "    item_value: Any=field(compare=False)\n"
      ],
      "metadata": {
        "id": "r9rMgZbute2P"
      },
      "execution_count": 29,
      "outputs": []
    },
    {
      "cell_type": "code",
      "source": [
        "import random\n",
        "\n",
        "def generate_instance(n_variables, k_literals, m_clauses):\n",
        "    variables = [chr(i + 65) for i in range(n_variables)]\n",
        "    problem_parts = []\n",
        "\n",
        "    for _ in range(m_clauses):\n",
        "        clause = []\n",
        "        for _ in range(k_literals):\n",
        "            x = random.choice(variables)\n",
        "            variables.remove(x)\n",
        "            clause.append('~' + x if random.random() < 0.5 else x)\n",
        "        problem_parts.append(' or '.join(clause))\n",
        "        variables.extend(clause)\n",
        "\n",
        "    problem = ' and '.join(f'({part})' for part in problem_parts)\n",
        "    return f'(({problem}))'\n"
      ],
      "metadata": {
        "id": "1jwHrRxBtujP"
      },
      "execution_count": 30,
      "outputs": []
    },
    {
      "cell_type": "code",
      "source": [
        "import random\n",
        "\n",
        "def generate_random_assignment(num_variables):\n",
        "    return [random.randint(0, 1) for _ in range(num_variables)]\n"
      ],
      "metadata": {
        "id": "yf0ZtobNt08u"
      },
      "execution_count": 32,
      "outputs": []
    },
    {
      "cell_type": "code",
      "source": [
        "def evaluate_fitness(assignment, k, variables, pos_or_neg):\n",
        "    fitness = 0\n",
        "    clause_eval = 0\n",
        "\n",
        "    for i, var in enumerate(variables):\n",
        "        clause_eval |= assignment[var] if pos_or_neg[i] == 'P' else 1 - assignment[var]\n",
        "        if i % k == k - 1:\n",
        "            fitness += clause_eval\n",
        "            clause_eval = 0\n",
        "\n",
        "    return fitness\n"
      ],
      "metadata": {
        "id": "VcOQ_sAHt98v"
      },
      "execution_count": 31,
      "outputs": []
    },
    {
      "cell_type": "code",
      "source": [
        "def hill_climbing(assignment, depth, k, variables, pos_or_neg):\n",
        "    for d in range(depth):\n",
        "        current_fitness = evaluate_fitness(assignment, k, variables, pos_or_neg)\n",
        "\n",
        "        if current_fitness == len(variables):\n",
        "            return assignment\n",
        "\n",
        "        change = None\n",
        "        for c in assignment:\n",
        "            neighbour = assignment.copy()\n",
        "            neighbour[c] = 1 - neighbour[c]\n",
        "\n",
        "            neighbour_fitness = evaluate_fitness(neighbour, k, variables, pos_or_neg)\n",
        "            if neighbour_fitness > current_fitness:\n",
        "                current_fitness = neighbour_fitness\n",
        "                change = c\n",
        "\n",
        "        if change is not None:\n",
        "            assignment[change] = 1 - assignment[change]\n",
        "\n",
        "    return assignment\n"
      ],
      "metadata": {
        "id": "ar3DkfiquFBH"
      },
      "execution_count": 33,
      "outputs": []
    },
    {
      "cell_type": "code",
      "source": [
        "from queue import PriorityQueue\n",
        "def beam_search(assignment, k, variables, pos_or_neg, beam_width, steps):\n",
        "    beam = PriorityQueue()\n",
        "    current = assignment\n",
        "    beam.put(PrioritizedItem(-evaluate_fitness(current, k, variables, pos_or_neg), assignment))\n",
        "\n",
        "    for _ in range(steps):\n",
        "        if beam.empty():\n",
        "            break\n",
        "\n",
        "        state = beam.get()\n",
        "        current = state.item_value\n",
        "        x = -state.priority_value\n",
        "\n",
        "        if x == len(variables):\n",
        "            return current\n",
        "\n",
        "        for c in current:\n",
        "            neighbour = current.copy()\n",
        "            neighbour[c] = 1 - neighbour[c]\n",
        "            neighbour_fitness = -evaluate_fitness(neighbour, k, variables, pos_or_neg)\n",
        "\n",
        "            if beam.qsize() < beam_width or neighbour_fitness > beam.queue[0].priority_value:\n",
        "                if beam.qsize() == beam_width:\n",
        "                    beam.get()\n",
        "                beam.put(PrioritizedItem(neighbour_fitness, neighbour))\n",
        "\n",
        "    return current\n"
      ],
      "metadata": {
        "id": "p9Or9yVuuNGu"
      },
      "execution_count": 51,
      "outputs": []
    },
    {
      "cell_type": "code",
      "source": [
        "import random\n",
        "\n",
        "def neighbour1(assignment):\n",
        "    c = random.choice(list(assignment))\n",
        "    assignment[c] = 1 - assignment[c]\n",
        "    return assignment\n",
        "\n",
        "def neighbour2(assignment):\n",
        "    c = random.choice(list(assignment))\n",
        "    d = random.choice(list(assignment))\n",
        "    while d == c:\n",
        "        d = random.choice(list(assignment))\n",
        "    x = assignment[c]\n",
        "    assignment[c] = assignment[d]\n",
        "    assignment[d] = x\n",
        "    return assignment\n",
        "\n",
        "def neighbour3(assignment):\n",
        "    x = list(assignment.keys())[0]\n",
        "    assignment[x] = 1 - assignment[x]\n",
        "    return assignment\n"
      ],
      "metadata": {
        "id": "hvicZhy6uy5H"
      },
      "execution_count": 46,
      "outputs": []
    },
    {
      "cell_type": "code",
      "source": [
        "def variable_neighbourhood(assignment, k, variables, pos_or_neg, steps):\n",
        "    s = 0\n",
        "    current = assignment\n",
        "\n",
        "    while s < steps:\n",
        "        current = assignment\n",
        "        x = evaluate_fitness(assignment, k, variables, pos_or_neg)\n",
        "        if x == len(variables):\n",
        "            return current\n",
        "\n",
        "        nbr1 = neighbour1(current.copy())\n",
        "        nbr2 = neighbour2(current.copy())\n",
        "        nbr3 = neighbour3(current.copy())\n",
        "\n",
        "        fn1 = evaluate_fitness(nbr1, k, variables, pos_or_neg)\n",
        "        fn2 = evaluate_fitness(nbr2, k, variables, pos_or_neg)\n",
        "        fn3 = evaluate_fitness(nbr3, k, variables, pos_or_neg)\n",
        "\n",
        "        if max(fn1, fn2, fn3) > x:\n",
        "            x = max(fn1, fn2, fn3)\n",
        "            if x == fn1:\n",
        "                current = nbr1\n",
        "            elif x == fn2:\n",
        "                current = nbr2\n",
        "            else:\n",
        "                current = nbr3\n",
        "        s += 1\n",
        "\n",
        "    return current\n"
      ],
      "metadata": {
        "id": "qDKQcNLiu4c_"
      },
      "execution_count": 47,
      "outputs": []
    },
    {
      "cell_type": "code",
      "source": [
        "n = 25\n",
        "k = 3\n",
        "m = 1000\n",
        "problem = generate_instance(n,k,m)\n",
        "numVars = set()\n",
        "variables = []\n",
        "posOrNeg = []\n",
        "\n",
        "prevNeg = False\n",
        "\n",
        "for i in range(len(problem)):\n",
        "  if problem[i] == '~':\n",
        "    prevNeg = True\n",
        "  elif ord(problem[i]) >= 65 and ord(problem[i]) <= 90:\n",
        "    if prevNeg == True:\n",
        "      posOrNeg.append('N')\n",
        "      prevNeg = False\n",
        "    else:\n",
        "      posOrNeg.append('P')\n",
        "\n",
        "    variables.append(problem[i])\n",
        "    numVars.add(problem[i])\n",
        "\n",
        "\n",
        "values = generate_random_assignment(len(numVars))\n",
        "startState = dict()\n",
        "\n",
        "index = 0\n",
        "for c in numVars:\n",
        "  startState[c] = values[index]\n",
        "  index += 1\n",
        "\n",
        "print(startState)\n",
        "print(\"Fitness for Starting State: \", evaluate_fitness(startState, k, variables, posOrNeg))\n",
        "solution  = hill_climbing(startState.copy(), 100, k, variables, posOrNeg)\n",
        "print(\"Fitness for Hill Climbing Solution: \", evaluate_fitness(solution, k, variables, posOrNeg))\n",
        "solution = beam_search(startState.copy(), k, variables, posOrNeg, 3, 1000)\n",
        "print(\"Fitness for Beam Search Solution (Beam-Width = 3): \", evaluate_fitness(solution, k, variables, posOrNeg))\n",
        "solution = beam_search(startState.copy(), k, variables, posOrNeg, 4, 1000)\n",
        "print(\"Fitness for Beam Search Solution (Beam-Width = 4): \", evaluate_fitness(solution, k, variables, posOrNeg))\n",
        "\n",
        "\n",
        "print(\"Neighbour 1: \", neighbour1(startState.copy()))\n",
        "print(\"Neighbour 2: \", neighbour2(startState.copy()))\n",
        "print(\"Neighbour 3: \", neighbour3(startState.copy()))\n",
        "\n",
        "solution = variable_neighbourhood(startState.copy(), k, variables, posOrNeg, 1000)\n",
        "print(\"Fitness for Variable-Neigbourhood-Descent: \", evaluate_fitness(solution, k, variables, posOrNeg))"
      ],
      "metadata": {
        "colab": {
          "base_uri": "https://localhost:8080/"
        },
        "id": "ndYY8mPBwHKv",
        "outputId": "955cd604-404c-4c31-e6df-a0b43aed2a93"
      },
      "execution_count": 52,
      "outputs": [
        {
          "output_type": "stream",
          "name": "stdout",
          "text": [
            "{'O': 0, 'J': 0, 'B': 0, 'X': 0, 'R': 0, 'H': 1, 'S': 1, 'A': 1, 'K': 1, 'N': 1, 'C': 1, 'Y': 1, 'F': 0, 'E': 1, 'V': 0, 'G': 1, 'Q': 1, 'L': 1, 'T': 0, 'W': 0, 'U': 1, 'P': 0, 'D': 0, 'M': 1, 'I': 0}\n",
            "Fitness for Starting State:  894\n",
            "Fitness for Hill Climbing Solution:  1000\n",
            "Fitness for Beam Search Solution (Beam-Width = 3):  15\n",
            "Fitness for Beam Search Solution (Beam-Width = 4):  15\n",
            "Neighbour 1:  {'O': 0, 'J': 0, 'B': 0, 'X': 0, 'R': 0, 'H': 1, 'S': 1, 'A': 1, 'K': 1, 'N': 1, 'C': 1, 'Y': 1, 'F': 0, 'E': 1, 'V': 0, 'G': 1, 'Q': 1, 'L': 1, 'T': 0, 'W': 0, 'U': 1, 'P': 0, 'D': 0, 'M': 1, 'I': 1}\n",
            "Neighbour 2:  {'O': 0, 'J': 0, 'B': 0, 'X': 0, 'R': 0, 'H': 1, 'S': 1, 'A': 0, 'K': 1, 'N': 1, 'C': 1, 'Y': 1, 'F': 0, 'E': 1, 'V': 0, 'G': 1, 'Q': 1, 'L': 1, 'T': 1, 'W': 0, 'U': 1, 'P': 0, 'D': 0, 'M': 1, 'I': 0}\n",
            "Neighbour 3:  {'O': 1, 'J': 0, 'B': 0, 'X': 0, 'R': 0, 'H': 1, 'S': 1, 'A': 1, 'K': 1, 'N': 1, 'C': 1, 'Y': 1, 'F': 0, 'E': 1, 'V': 0, 'G': 1, 'Q': 1, 'L': 1, 'T': 0, 'W': 0, 'U': 1, 'P': 0, 'D': 0, 'M': 1, 'I': 0}\n",
            "Fitness for Variable-Neigbourhood-Descent:  894\n"
          ]
        }
      ]
    }
  ]
}